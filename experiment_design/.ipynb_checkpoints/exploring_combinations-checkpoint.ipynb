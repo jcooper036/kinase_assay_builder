{
 "cells": [
  {
   "cell_type": "markdown",
   "metadata": {},
   "source": [
    "# Exploring combinations\n",
    "In this experiment, we need to set up an interesting array of combinations of compounds. Each compound needs to be represented in triplicate on a plate, and it also needs to be present with 5 other compounds. The trick is, each replicate of each compound cannot be with the same compound more than once. For example, the set of compounds that are with `compound 1` would look like:  \n",
    "`[1,2,3,4,5] [1,6,7,8,9] [1,10,11,12,13]`  \n",
    "Likewise, the set for `compound 2` would then look like:  \n",
    "`[1,2,3,4,5] [2,6,10,14,15] [2,7,11,16,17]`  \n",
    "And `compound 3` would be:  \n",
    "`[1,2,3,4,5] [3,8,12,14,16] [3,9,13,15,17]`  \n",
    "So this gets pretty complicated pretty fast. The alogritim should basically be:\n",
    "- try to add the smallest number that\n",
    "    - isn't the number in question\n",
    "    - and hasn't already been added 3 times\n",
    "- if that fails, add the next largest number that we haven't used\n",
    "- and we want to know if this set is every complete"
   ]
  },
  {
   "cell_type": "code",
   "execution_count": 56,
   "metadata": {},
   "outputs": [],
   "source": [
    "# setup\n",
    "wells = [\n",
    "    [1,2,3,4,5],\n",
    "    [1,6,7,8,9],\n",
    "    [1,10,11,12,13]\n",
    "]\n",
    "\n",
    "\n",
    "wells = [\n",
    "    [1,2,3,4,5]\n",
    "]\n",
    "\n",
    "numbers_done = []\n",
    "\n",
    "numbers_left = [(1,1),(2,1), (3,1), (4,1), (5,1)]\n",
    "\n",
    "next_number = 6\n",
    "\n",
    "seen_with = {\n",
    "    1 : [2,3,4,5],\n",
    "    2 : [1,3,4,5],\n",
    "    3 : [1,2,4,5],\n",
    "    4 : [1,2,3,5],\n",
    "    5 : [1,2,3,4],\n",
    "}"
   ]
  },
  {
   "cell_type": "code",
   "execution_count": 57,
   "metadata": {},
   "outputs": [],
   "source": [
    "# main loop\n",
    "n = 5000\n",
    "while n and numbers_left and (len(wells) <= 1300):\n",
    "    \n",
    "    #new numbers done\n",
    "    finished = []\n",
    "    \n",
    "    # make a a new well\n",
    "    new_well = []\n",
    "    \n",
    "    # try to add the smallest number in that list to the well. if the\n",
    "    for idx, num in enumerate(numbers_left):\n",
    "        if num[0] not in new_well:\n",
    "            if not any([x in seen_with[num[0]] for x in new_well]):\n",
    "                if numbers_left[idx][1] < 3:\n",
    "                    new_well.append(num[0])\n",
    "                    numbers_left[idx] = (num[0], num[1]+1)\n",
    "            \n",
    "            \n",
    "\n",
    "    \n",
    "    # if the length of the well is not 5\n",
    "    while len(new_well) < 5:\n",
    "        new_well.append(next_number)\n",
    "        numbers_left.append((next_number, 1))\n",
    "        next_number += 1\n",
    "        \n",
    "    # add to the \"seen_with\" dictionary   \n",
    "    for num in new_well:\n",
    "        if num in seen_with:\n",
    "            for onum in new_well:\n",
    "                if onum != num:\n",
    "                    seen_with[num].append(onum)\n",
    "        else:\n",
    "            seen_with[num] = []\n",
    "            for onum in new_well:\n",
    "                if onum != num:\n",
    "                    seen_with[num].append(onum)\n",
    "            \n",
    "    \n",
    "    # add the new well\n",
    "    wells.append(new_well)\n",
    "    \n",
    "    # remove the numbers that are done\n",
    "    for idx, num in enumerate(numbers_left):\n",
    "        if numbers_left[idx][1] == 3:\n",
    "            finished.append(idx)\n",
    "    for idx in finished:\n",
    "        numbers_left.pop(idx)\n",
    "    \n",
    "    # incriment the counter\n",
    "    n -= 1"
   ]
  },
  {
   "cell_type": "code",
   "execution_count": 59,
   "metadata": {},
   "outputs": [
    {
     "data": {
      "text/plain": [
       "(10, 1301, 2739)"
      ]
     },
     "execution_count": 59,
     "metadata": {},
     "output_type": "execute_result"
    }
   ],
   "source": [
    "len(numbers_left), len(wells), next_number"
   ]
  },
  {
   "cell_type": "code",
   "execution_count": null,
   "metadata": {},
   "outputs": [],
   "source": []
  }
 ],
 "metadata": {
  "kernelspec": {
   "display_name": "Python 3",
   "language": "python",
   "name": "python3"
  },
  "language_info": {
   "codemirror_mode": {
    "name": "ipython",
    "version": 3
   },
   "file_extension": ".py",
   "mimetype": "text/x-python",
   "name": "python",
   "nbconvert_exporter": "python",
   "pygments_lexer": "ipython3",
   "version": "3.7.3"
  }
 },
 "nbformat": 4,
 "nbformat_minor": 2
}
